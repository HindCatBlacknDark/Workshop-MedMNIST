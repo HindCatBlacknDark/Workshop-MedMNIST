{
 "cells": [
  {
   "cell_type": "markdown",
   "id": "9e482b2b",
   "metadata": {},
   "source": [
    "# Demo: PneumoniaMNIST CNN + Grad-CAM\n",
    "\n",
    "This notebook guides you through loading data, training a CNN, evaluating accuracy, and visualizing Grad-CAM heatmaps.\n",
    "# The dataset is a subset of the [MedMNIST(PneumoniaMNIST)](https://paperswithcode.com/dataset/medmnist) dataset from papers with codes. Check out the [MedMNIST](https://https://medmnist.com) repository for more datasets and models. also [Github MedMNIST](https://github.com/MedMNIST/MedMNIST).\n",
    "This notebook runs end-to-end on your machine, using the `src/` modules:  \n",
    "1. Load & inspect data  \n",
    "2. Define & train a CNN  \n",
    "3. Plot training metrics  \n",
    "4. Visualize Grad-CAM  \n"
   ]
  },
  {
   "cell_type": "markdown",
   "id": "992b05d8",
   "metadata": {},
   "source": [
    "# Imports and Setup\n",
    "```python\n",
    "# Ensure src/ is on path\n",
    "import sys, os\n",
    "sys.path.append(os.path.abspath('../src'))\n",
    "\n",
    "# Core libraries\n",
    "import torch\n",
    "import torch.nn as nn\n",
    "import torch.optim as optim\n",
    "from tqdm import tqdm\n",
    "import matplotlib.pyplot as plt\n",
    "import numpy as np\n",
    "\n",
    "# Workshop modules\n",
    "from data import get_dataloaders\n",
    "from models import SimpleCNN\n",
    "from gradcam import apply_gradcam\n",
    "```"
   ]
  },
  {
   "cell_type": "markdown",
   "id": "6665bd21",
   "metadata": {},
   "source": [
    "## Check device\n",
    "```python\n",
    "device = torch.device('cuda' if torch.cuda.is_available() else 'cpu')\n",
    "print(\"Running on\", device)"
   ]
  },
  {
   "cell_type": "markdown",
   "id": "ed0dbb19",
   "metadata": {},
   "source": [
    "## 1. Load & Inspect Data  \n",
    "Using `get_dataloaders()` from `src/data.py`.  \n",
    "```python\n",
    "batch_size = 64\n",
    "train_loader, test_loader = get_dataloaders(batch_size=batch_size, data_dir='./data')\n",
    "```\n",
    "\n",
    "### Peek one batch\n",
    "```python\n",
    "imgs, labels = next(iter(train_loader))\n",
    "imgs = imgs[:6]; labels = labels[:6].squeeze()\n",
    "fig, axes = plt.subplots(2,3, figsize=(8,5))\n",
    "for i, ax in enumerate(axes.flatten()):\n",
    "    ax.imshow(imgs[i].squeeze(), cmap='gray')\n",
    "    ax.set_title(f\"Label: {labels[i].item()}\")\n",
    "    ax.axis('off')\n",
    "plt.suptitle(\"Sample Batch from PneumoniaMNIST\")\n",
    "plt.show()\n",
    "```"
   ]
  },
  {
   "cell_type": "markdown",
   "id": "b5a6fa39",
   "metadata": {},
   "source": [
    "## 2. Define Model\n",
    "```python\n",
    "model = SimpleCNN().to(device)\n",
    "print(model)\n",
    "```"
   ]
  },
  {
   "cell_type": "markdown",
   "id": "595a6d80",
   "metadata": {},
   "source": [
    "## 3. Train for 3 epochs  \n",
    "Track training loss and test accuracy.\n",
    "```python\n",
    "# Loss, optimizer, history\n",
    "criterion = nn.CrossEntropyLoss()\n",
    "optimizer = optim.Adam(model.parameters(), lr=1e-3)\n",
    "train_losses, test_accs = [], []\n",
    "\n",
    "for epoch in range(1, 4):\n",
    "    model.train()\n",
    "    total_loss = 0\n",
    "    for imgs, labels in tqdm(train_loader, desc=f\"Epoch {epoch}\"):\n",
    "        imgs, labels = imgs.to(device), labels.squeeze().long().to(device)\n",
    "        optimizer.zero_grad()\n",
    "        out = model(imgs)\n",
    "        loss = criterion(out, labels)\n",
    "        loss.backward()\n",
    "        optimizer.step()\n",
    "        total_loss += loss.item()\n",
    "    avg_loss = total_loss / len(train_loader)\n",
    "    train_losses.append(avg_loss)\n",
    "\n",
    "    # Evaluate\n",
    "    model.eval()\n",
    "    correct = total = 0\n",
    "    with torch.no_grad():\n",
    "        for imgs, labels in test_loader:\n",
    "            imgs, labels = imgs.to(device), labels.squeeze().long().to(device)\n",
    "            preds = model(imgs).argmax(dim=1)\n",
    "            correct += (preds == labels).sum().item()\n",
    "            total += labels.size(0)\n",
    "    acc = correct/total\n",
    "    test_accs.append(acc)\n",
    "    print(f\"[Epoch {epoch}] Loss: {avg_loss:.4f}, Test Acc: {acc:.4f}\")\n",
    "```"
   ]
  },
  {
   "cell_type": "markdown",
   "id": "d4d37bdd",
   "metadata": {},
   "source": [
    "### Training Loss & Test Accuracy  \n",
    "```python\n",
    "fig, ax1 = plt.subplots()\n",
    "ax1.plot(range(1,4), train_losses, marker='o', label='Train Loss')\n",
    "ax1.set_xlabel('Epoch'); ax1.set_ylabel('Loss'); ax1.legend(loc='upper left')\n",
    "\n",
    "ax2 = ax1.twinx()\n",
    "ax2.plot(range(1,4), test_accs, marker='s', linestyle='--', label='Test Acc')\n",
    "ax2.set_ylabel('Accuracy'); ax2.legend(loc='upper right')\n",
    "\n",
    "plt.title(\"Training Metrics\")\n",
    "plt.show()\n",
    "```"
   ]
  },
  {
   "cell_type": "markdown",
   "id": "43cb87cc",
   "metadata": {},
   "source": [
    "## 4. Define & Apply Grad-CAM  \n",
    "Using `apply_gradcam()` from `src/gradcam.py`.\n",
    "```python\n",
    "# pick the conv layer to hook: last conv in features\n",
    "target_layer = model.features[-3]\n",
    "\n",
    "```"
   ]
  },
  {
   "cell_type": "markdown",
   "id": "3ab586f2",
   "metadata": {},
   "source": [
    "### 5. Display Grad-CAM overlays for first 3 test images  \n",
    "```python\n",
    "fig, axes = plt.subplots(2,3, figsize=(10,6))\n",
    "for i in range(3):\n",
    "    img, lbl = test_loader.dataset[i]\n",
    "    tensor = img.unsqueeze(0).to(device)\n",
    "    cam, pred = apply_gradcam(model, tensor, target_layer)\n",
    "\n",
    "    gray = img.squeeze().cpu().numpy()\n",
    "    heatmap = plt.get_cmap('jet')(cam)[...,:3]\n",
    "    overlay = heatmap*0.4 + gray[...,None]*0.6\n",
    "\n",
    "    # original\n",
    "    axes[0,i].imshow(gray, cmap='gray')\n",
    "    axes[0,i].set_title(f\"True: {lbl.item()}\")\n",
    "    axes[0,i].axis('off')\n",
    "    # overlay\n",
    "    axes[1,i].imshow(overlay)\n",
    "    axes[1,i].set_title(f\"Pred: {pred}\")\n",
    "    axes[1,i].axis('off')\n",
    "\n",
    "plt.suptitle(\"Grad-CAM Results\")\n",
    "plt.tight_layout()\n",
    "plt.show()\n",
    "```"
   ]
  },
  {
   "cell_type": "markdown",
   "id": "4ebbc22d",
   "metadata": {},
   "source": [
    "## 6. Try It Yourself!  \n",
    "- Change the learning rate or number of epochs.  \n",
    "- Hook an earlier conv block (e.g. `model.features[0]`).  \n",
    "- Increase image size to 128×128 in `get_dataloaders()`.  \n",
    "- Swap in another MedMNIST dataset (e.g. DermaMNIST).  "
   ]
  },
  {
   "cell_type": "code",
   "execution_count": null,
   "id": "cded6c61",
   "metadata": {
    "vscode": {
     "languageId": "plaintext"
    }
   },
   "outputs": [],
   "source": []
  }
 ],
 "metadata": {
  "language_info": {
   "name": "python"
  }
 },
 "nbformat": 4,
 "nbformat_minor": 5
}
